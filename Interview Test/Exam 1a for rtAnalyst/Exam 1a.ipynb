{
 "cells": [
  {
   "cell_type": "markdown",
   "metadata": {},
   "source": [
    "# Exam 1a for rtAnalyst"
   ]
  },
  {
   "cell_type": "markdown",
   "metadata": {},
   "source": [
    "**Import libraries**"
   ]
  },
  {
   "cell_type": "code",
   "execution_count": 30,
   "metadata": {},
   "outputs": [],
   "source": [
    "import pandas as pd\n",
    "import numpy as np\n",
    "import matplotlib.pyplot as plt\n",
    "import seaborn as sns\n",
    "import math"
   ]
  },
  {
   "cell_type": "markdown",
   "metadata": {},
   "source": [
    "**Import dataset**"
   ]
  },
  {
   "cell_type": "code",
   "execution_count": 3,
   "metadata": {},
   "outputs": [
    {
     "data": {
      "text/html": [
       "<div>\n",
       "<style scoped>\n",
       "    .dataframe tbody tr th:only-of-type {\n",
       "        vertical-align: middle;\n",
       "    }\n",
       "\n",
       "    .dataframe tbody tr th {\n",
       "        vertical-align: top;\n",
       "    }\n",
       "\n",
       "    .dataframe thead th {\n",
       "        text-align: right;\n",
       "    }\n",
       "</style>\n",
       "<table border=\"1\" class=\"dataframe\">\n",
       "  <thead>\n",
       "    <tr style=\"text-align: right;\">\n",
       "      <th></th>\n",
       "      <th>STT</th>\n",
       "      <th>Tên KH</th>\n",
       "      <th>Mã KH</th>\n",
       "      <th>Ngày nhập CSDL</th>\n",
       "      <th>Thôn</th>\n",
       "      <th>Xã</th>\n",
       "      <th>Huyện</th>\n",
       "      <th>Tỉnh</th>\n",
       "      <th>Mã thôn</th>\n",
       "      <th>Mã xã</th>\n",
       "      <th>Mã huyện</th>\n",
       "      <th>Mã tỉnh</th>\n",
       "      <th>SĐT</th>\n",
       "      <th>Địa chỉ KH</th>\n",
       "      <th>Bảng Giá áp dụng</th>\n",
       "    </tr>\n",
       "  </thead>\n",
       "  <tbody>\n",
       "    <tr>\n",
       "      <th>0</th>\n",
       "      <td>1</td>\n",
       "      <td>Bà Liên ( Chức</td>\n",
       "      <td>TG.095.01</td>\n",
       "      <td>2017-03-10 16:45:43</td>\n",
       "      <td>Thanh Gia</td>\n",
       "      <td>Quảng Phú</td>\n",
       "      <td>Lương Tài</td>\n",
       "      <td>Bắc Ninh</td>\n",
       "      <td>TG</td>\n",
       "      <td>9514</td>\n",
       "      <td>264</td>\n",
       "      <td>27</td>\n",
       "      <td>1.677642e+09</td>\n",
       "      <td>Thanh Gia</td>\n",
       "      <td>SH</td>\n",
       "    </tr>\n",
       "    <tr>\n",
       "      <th>1</th>\n",
       "      <td>2</td>\n",
       "      <td>Bà Tiến</td>\n",
       "      <td>CP.022</td>\n",
       "      <td>2017-01-23 12:38:01</td>\n",
       "      <td>Chinh Phú</td>\n",
       "      <td>Trung Chính</td>\n",
       "      <td>Lương Tài</td>\n",
       "      <td>Bắc Ninh</td>\n",
       "      <td>CP</td>\n",
       "      <td>9523</td>\n",
       "      <td>264</td>\n",
       "      <td>27</td>\n",
       "      <td>NaN</td>\n",
       "      <td>Chinh Phú</td>\n",
       "      <td>SH</td>\n",
       "    </tr>\n",
       "    <tr>\n",
       "      <th>2</th>\n",
       "      <td>3</td>\n",
       "      <td>Bà Tĩnh</td>\n",
       "      <td>CP.018</td>\n",
       "      <td>2017-01-23 12:38:01</td>\n",
       "      <td>Chinh Phú</td>\n",
       "      <td>Trung Chính</td>\n",
       "      <td>Lương Tài</td>\n",
       "      <td>Bắc Ninh</td>\n",
       "      <td>CP</td>\n",
       "      <td>9523</td>\n",
       "      <td>264</td>\n",
       "      <td>27</td>\n",
       "      <td>NaN</td>\n",
       "      <td>Chinh Phú</td>\n",
       "      <td>SH</td>\n",
       "    </tr>\n",
       "    <tr>\n",
       "      <th>3</th>\n",
       "      <td>4</td>\n",
       "      <td>Bà Trừ</td>\n",
       "      <td>CP.056</td>\n",
       "      <td>2017-01-23 12:38:01</td>\n",
       "      <td>Chinh Phú</td>\n",
       "      <td>Trung Chính</td>\n",
       "      <td>Lương Tài</td>\n",
       "      <td>Bắc Ninh</td>\n",
       "      <td>CP</td>\n",
       "      <td>9523</td>\n",
       "      <td>264</td>\n",
       "      <td>27</td>\n",
       "      <td>NaN</td>\n",
       "      <td>Chinh Phú</td>\n",
       "      <td>SH</td>\n",
       "    </tr>\n",
       "    <tr>\n",
       "      <th>4</th>\n",
       "      <td>5</td>\n",
       "      <td>Bùi Đức Hải</td>\n",
       "      <td>TC.127</td>\n",
       "      <td>2017-01-23 12:38:01</td>\n",
       "      <td>Trung Chinh</td>\n",
       "      <td>Trung Chính</td>\n",
       "      <td>Lương Tài</td>\n",
       "      <td>Bắc Ninh</td>\n",
       "      <td>TC</td>\n",
       "      <td>9523</td>\n",
       "      <td>264</td>\n",
       "      <td>27</td>\n",
       "      <td>NaN</td>\n",
       "      <td>Trung Chinh</td>\n",
       "      <td>SH</td>\n",
       "    </tr>\n",
       "  </tbody>\n",
       "</table>\n",
       "</div>"
      ],
      "text/plain": [
       "   STT          Tên KH      Mã KH       Ngày nhập CSDL         Thôn  \\\n",
       "0    1  Bà Liên ( Chức  TG.095.01  2017-03-10 16:45:43    Thanh Gia   \n",
       "1    2         Bà Tiến     CP.022  2017-01-23 12:38:01    Chinh Phú   \n",
       "2    3         Bà Tĩnh     CP.018  2017-01-23 12:38:01    Chinh Phú   \n",
       "3    4          Bà Trừ     CP.056  2017-01-23 12:38:01    Chinh Phú   \n",
       "4    5     Bùi Đức Hải     TC.127  2017-01-23 12:38:01  Trung Chinh   \n",
       "\n",
       "            Xã      Huyện      Tỉnh Mã thôn  Mã xã  Mã huyện  Mã tỉnh  \\\n",
       "0    Quảng Phú  Lương Tài  Bắc Ninh      TG   9514       264       27   \n",
       "1  Trung Chính  Lương Tài  Bắc Ninh      CP   9523       264       27   \n",
       "2  Trung Chính  Lương Tài  Bắc Ninh      CP   9523       264       27   \n",
       "3  Trung Chính  Lương Tài  Bắc Ninh      CP   9523       264       27   \n",
       "4  Trung Chính  Lương Tài  Bắc Ninh      TC   9523       264       27   \n",
       "\n",
       "            SĐT   Địa chỉ KH Bảng Giá áp dụng  \n",
       "0  1.677642e+09    Thanh Gia               SH  \n",
       "1           NaN    Chinh Phú               SH  \n",
       "2           NaN    Chinh Phú               SH  \n",
       "3           NaN    Chinh Phú               SH  \n",
       "4           NaN  Trung Chinh               SH  "
      ]
     },
     "execution_count": 3,
     "metadata": {},
     "output_type": "execute_result"
    }
   ],
   "source": [
    "df = pd.read_excel('CSDL_KhachHang.xlsx')\n",
    "df.head()"
   ]
  },
  {
   "cell_type": "markdown",
   "metadata": {},
   "source": [
    "**This function is used to convert phone number to its proper form**"
   ]
  },
  {
   "cell_type": "code",
   "execution_count": 33,
   "metadata": {},
   "outputs": [],
   "source": [
    "def convertPhoneNumber(pnum):\n",
    "    if math.isnan(pnum):\n",
    "        return pnum\n",
    "    x = str(pnum)\n",
    "    x = x.replace('.0', '')\n",
    "    if(x[0] != '1' and x[0] != '9'):\n",
    "        x = '02' + x\n",
    "    else:\n",
    "        x = '0' + x\n",
    "    return x"
   ]
  },
  {
   "cell_type": "markdown",
   "metadata": {},
   "source": [
    "**We applied the function above to convert phone number and reassign to column SĐT, ignore NaN**"
   ]
  },
  {
   "cell_type": "code",
   "execution_count": 36,
   "metadata": {},
   "outputs": [],
   "source": [
    "df['SĐT'] = df['SĐT'].apply(convertPhoneNumber)"
   ]
  },
  {
   "cell_type": "markdown",
   "metadata": {},
   "source": [
    "**Query from the original dataset to get only households that living in Quảng Phú alongside with SĐT and Mã KH then reassign to result dataframe**"
   ]
  },
  {
   "cell_type": "code",
   "execution_count": 39,
   "metadata": {},
   "outputs": [],
   "source": [
    "result = df[(df['Xã'] == 'Quảng Phú')][['Mã KH','SĐT', 'Xã']].dropna()"
   ]
  },
  {
   "cell_type": "code",
   "execution_count": 40,
   "metadata": {},
   "outputs": [
    {
     "data": {
      "text/html": [
       "<div>\n",
       "<style scoped>\n",
       "    .dataframe tbody tr th:only-of-type {\n",
       "        vertical-align: middle;\n",
       "    }\n",
       "\n",
       "    .dataframe tbody tr th {\n",
       "        vertical-align: top;\n",
       "    }\n",
       "\n",
       "    .dataframe thead th {\n",
       "        text-align: right;\n",
       "    }\n",
       "</style>\n",
       "<table border=\"1\" class=\"dataframe\">\n",
       "  <thead>\n",
       "    <tr style=\"text-align: right;\">\n",
       "      <th></th>\n",
       "      <th>Mã KH</th>\n",
       "      <th>SĐT</th>\n",
       "      <th>Xã</th>\n",
       "    </tr>\n",
       "  </thead>\n",
       "  <tbody>\n",
       "    <tr>\n",
       "      <th>0</th>\n",
       "      <td>TG.095.01</td>\n",
       "      <td>01677642406</td>\n",
       "      <td>Quảng Phú</td>\n",
       "    </tr>\n",
       "    <tr>\n",
       "      <th>50</th>\n",
       "      <td>TG.105.02</td>\n",
       "      <td>01697685880</td>\n",
       "      <td>Quảng Phú</td>\n",
       "    </tr>\n",
       "    <tr>\n",
       "      <th>52</th>\n",
       "      <td>TG.141</td>\n",
       "      <td>0968532997</td>\n",
       "      <td>Quảng Phú</td>\n",
       "    </tr>\n",
       "    <tr>\n",
       "      <th>54</th>\n",
       "      <td>TG.105.01</td>\n",
       "      <td>0964338169</td>\n",
       "      <td>Quảng Phú</td>\n",
       "    </tr>\n",
       "    <tr>\n",
       "      <th>57</th>\n",
       "      <td>TG.071.06</td>\n",
       "      <td>0968943324</td>\n",
       "      <td>Quảng Phú</td>\n",
       "    </tr>\n",
       "  </tbody>\n",
       "</table>\n",
       "</div>"
      ],
      "text/plain": [
       "        Mã KH          SĐT         Xã\n",
       "0   TG.095.01  01677642406  Quảng Phú\n",
       "50  TG.105.02  01697685880  Quảng Phú\n",
       "52     TG.141   0968532997  Quảng Phú\n",
       "54  TG.105.01   0964338169  Quảng Phú\n",
       "57  TG.071.06   0968943324  Quảng Phú"
      ]
     },
     "execution_count": 40,
     "metadata": {},
     "output_type": "execute_result"
    }
   ],
   "source": [
    "result.head()"
   ]
  },
  {
   "cell_type": "markdown",
   "metadata": {},
   "source": [
    "**Write the result dataframe to csv file**"
   ]
  },
  {
   "cell_type": "code",
   "execution_count": 41,
   "metadata": {},
   "outputs": [],
   "source": [
    "result.to_csv('Result')"
   ]
  },
  {
   "cell_type": "code",
   "execution_count": null,
   "metadata": {},
   "outputs": [],
   "source": []
  }
 ],
 "metadata": {
  "kernelspec": {
   "display_name": "Python 3",
   "language": "python",
   "name": "python3"
  },
  "language_info": {
   "codemirror_mode": {
    "name": "ipython",
    "version": 3
   },
   "file_extension": ".py",
   "mimetype": "text/x-python",
   "name": "python",
   "nbconvert_exporter": "python",
   "pygments_lexer": "ipython3",
   "version": "3.6.4"
  }
 },
 "nbformat": 4,
 "nbformat_minor": 2
}
